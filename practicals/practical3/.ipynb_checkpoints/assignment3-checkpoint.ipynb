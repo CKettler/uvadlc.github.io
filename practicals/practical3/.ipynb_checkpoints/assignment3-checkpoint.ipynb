{
 "cells": [
  {
   "cell_type": "markdown",
   "metadata": {},
   "source": [
    "# Practical 3 How to classify pixels?\n",
    "## <font color='green'>[+100 points in total, +30 optional points]</font>\n",
    "\n",
    "# Section 1 Introduction\n",
    "\n",
    "This assignment contains several files that need to be completed/implemented. This Jypyter notebook serves only as a \"glue\", to connect everything together and let you run the code more easily. If you want to run a particular file, you just need to type in a standard code cell the following\n",
    "```lua\n",
    "dofile 'mynewfile.lua'\n",
    "```\n",
    "and it will run your code as if you would type that in the terminal.\n",
    "\n",
    "The rest of this notebook will describe the assignment, present to you the questions that you need to complete and guide you through through the answer.\n",
    "You should not use this notebook to actually program the code for the assignment, other than calling \"main\" files to get, print and plot the results.\n",
    "You should provide the textual as well as the numerical answers inline, after each question by running the right scripts that you should have implemented.\n",
    "Once you complete the assignment and answer the questions inline, you can download the report in pdf (File->Download as->PDF) and send it to us, together with the code.\n",
    "\n",
    "To share your code, results and pdf with us, please make a Bitbucket repository and invite us to your project.\n",
    "Then, we will clone your project and correct your assigmment.\n",
    "\n",
    "<i>Note: You are not obliged to use iTorch, you can also run the code in the terminal.\n",
    "Whatever suits you best.\n",
    "Plotting images and graphs is easier with iTorch, however.\n",
    "You might want to save the images and have them plotted in iTorch.</i>"
   ]
  },
  {
   "cell_type": "markdown",
   "metadata": {},
   "source": [
    "# Instructions\n",
    "\n",
    "Implement your code and answer all the questions.\n",
    "Make your own bitbucket repository (bitbucket allows private repositories).\n",
    "Commit your answers to the repository and invite us to access your solutions.\n",
    "Please send your answers by February XX, at XX.\n",
    "In the course there is a 7 late day policy.\n",
    "This means that you are allowed 7 days in total for delivering the assignments, you can use them as you please.\n",
    "Beyone that each extra late day will have a 10% penalty on your final score."
   ]
  },
  {
   "cell_type": "markdown",
   "metadata": {},
   "source": [
    "# Summary\n",
    "\n",
    "By the end of this practical you should:\n",
    "<ul>\n",
    "<li>be able to implement your very own, state-of-thea-art deep convolutional neural network, like Alexnet.</li>\n",
    "<li>be able to visualize filters and feature mas of convolutional neural networks.</li>\n",
    "<li>be able to use a neural network as a feature extractor to compute features, that can later on be used with an SVM.</li>\n",
    "<li>be able to fine-tune an existing neural network for a new dataset. You will learn how to pick the right hyper-parameters for the fine-tuning.</li>\n",
    "<li>be able to implement your own optimization function with which you can train your neural network.</li>\n",
    "<li>be able to implement your very own, state-of-the-art, semantic segmentation deep convolutional neural network. </li>\n",
    "</ul>"
   ]
  },
  {
   "cell_type": "markdown",
   "metadata": {},
   "source": [
    "# Section 2 Build your Convnet\n",
    "\n",
    "The first part of this assignment is to build your very own first convoluional neural network.\n",
    "From a programming point of view defining a convolutional neural network is not much different that defining a standard neural network (multi-layer perceptron) that you did for the second practical.\n",
    "Although you can reuse the code from the second practical, the starter code now has two improvements.\n",
    "First, the code is a more structured and general making it easier for heavy experimentation.\n",
    "Second, the code allows for harvesting your GPU power to speed up computations.\n",
    "Using your GPU to train deep learning neural networks is a <i>sine qua non</i> condition for modern architectures and datasets.\n",
    "\n",
    "In Torch transforming your code to work with GPU and CUDA is almost transparent. In short it can be summarized to the following: import the cunn package (<tt>require 'cunn'</tt>), set the default tensor to be the CudaTensor (<tt>torch.setdefaulttensortype('torch.CudaTensor')</tt>) and transfer your model in the GPU, namely:\n",
    "\n",
    "```lua\n",
    "require 'cunn'\n",
    "\n",
    "torch.setdefaulttensortype('torch.CudaTensor')\n",
    "\n",
    "model = nn.Sequential()\n",
    "model:add(nn.Copy('torch.FloatTensor','torch.CudaTensor'):cuda())\n",
    "model:add(alexnet_model():cuda())\n",
    "```\n",
    "\n",
    "## Section 2.1 Implement the functions for loading and pre-processing your data\n",
    "\n",
    "The dataset that we are going to work with in this section is <a href=\"https://www.cs.toronto.edu/~kriz/cifar.html\">CIFAR-10</a>.\n",
    "Your main wrapper function for this section is <tt>assignment3-cifar10.lua</tt>.\n",
    "First, you need to implement the functions <tt>load_data_cifar10.lua</tt> and <tt>preprocess_data_cifar10.lua</tt>.\n",
    "You can reuse the code you used in the previous lab assignment.\n",
    "If you didn't manage to get it right last week, pleas send me an email to work this out.\n",
    "\n",
    "- Implement CIFAR 10 load and preprocess modules`\n",
    "\n",
    "- Add learning rate step schedule\n",
    "\n",
    "- add/remove dropout, what is the difference?\n",
    "\n",
    "- what convolution so that the feature maps have the same dimension?\n",
    "\n",
    "- Open the sgd function. What is the relation between the learning rate and the learningRates field. In this particular implementation are they independent or do they relate to each other? What happens to the learningRates vector when the learning rate is halved?"
   ]
  },
  {
   "cell_type": "markdown",
   "metadata": {},
   "source": [
    "# Section 3 Transfer Learning\n",
    "\n",
    "By now you should have trained a pretty accurate Alexnet-like convnet on CIFAR-10.\n",
    "Assume now that you found a new dataset with even more classes, CIFAR-100.\n",
    "Apply your previous network on this new dataset.\n",
    "\n",
    "https://github.com/koraykv/torch-svm\n",
    "\n"
   ]
  },
  {
   "cell_type": "markdown",
   "metadata": {},
   "source": [
    "# Section 4 Semantic Segmentation"
   ]
  },
  {
   "cell_type": "markdown",
   "metadata": {},
   "source": [
    "# <font color='purple'>Section 5 For enthusiastic students [Optional, +30 points]</font>\n",
    "\n",
    "By now you should be able to build a decent, deep neural networks that scores good accuracies in a standard benchmark, like CIFAR-100.\n",
    "However, one can probably do better.\n",
    "Maybe a different type of network would be more suited, one that is wider or one that has more layers.\n",
    "Maybe different types of hyperparameters would be better suited.\n",
    "Maybe a combination of neural networks would do the trick or even maybe a combination with other methods would be beneficial.\n",
    "\n",
    "In this third lab assignment we introduce the following object classification challenge. You can continue working on the classification task for the CIFAR-100 dataset.\n",
    "This challenge is open-ended and does not have the same deadline as the rest of the assignment.\n",
    "\n",
    "## <font color='purple'>Instructions and Conditions</font>\n",
    "\n",
    "<ul>\n",
    "<li>The deadline for this challenge is the final lecture, where we are going to present the winner.</li>\n",
    "<li>The winner will receive extra points (+30 points) and a badge of honor.</li>\n",
    "<li>The names of the participants and the winner will also be posted on the course website for the generations to come :P.</li>\n",
    "<li>For questions and suggestions (the challenge is still open for changes, if good suggestions are proposed) use Piazza.</li>\n",
    "</ul>\n",
    "\n",
    "<i>Note: You are free to use any type of architecture and model, as long as substantial part of your method involves also a deep neural network.<i>\n"
   ]
  },
  {
   "cell_type": "code",
   "execution_count": null,
   "metadata": {
    "collapsed": true
   },
   "outputs": [],
   "source": []
  }
 ],
 "metadata": {
  "kernelspec": {
   "display_name": "iTorch",
   "language": "lua",
   "name": "itorch"
  },
  "language_info": {
   "name": "lua",
   "version": "5.1"
  }
 },
 "nbformat": 4,
 "nbformat_minor": 0
}
